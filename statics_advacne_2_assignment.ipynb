{
  "nbformat": 4,
  "nbformat_minor": 0,
  "metadata": {
    "colab": {
      "provenance": []
    },
    "kernelspec": {
      "name": "python3",
      "display_name": "Python 3"
    },
    "language_info": {
      "name": "python"
    }
  },
  "cells": [
    {
      "cell_type": "markdown",
      "source": [
        "**Question 1: What is a random variable in probability theory?**\n",
        "  - A set of possible value form a random expriment\n",
        "  - example : number of head when we toss a coin"
      ],
      "metadata": {
        "id": "Ox7H39jr-VOF"
      }
    },
    {
      "cell_type": "markdown",
      "source": [
        "**Question 2: What are the types of random variables?**\n",
        "  - two types of random variable are\n",
        "  - first is discrete random variable, example : counting number like 1,2,3,4\n",
        "  - second contigious random variable, example : that is given range of time, like train arriving in 2.5minutes etc.\n"
      ],
      "metadata": {
        "id": "_GyITPj5_GbI"
      }
    },
    {
      "cell_type": "markdown",
      "source": [
        "**Question 3: Explain the difference between discrete and continuous distributions.**\n",
        "  - discrete random variable\n",
        "    - the discrete distribution is used when the random variabl can take countable values, exaple number of stuendent present in the class room\n",
        "    - the sum of all probability is 1\n",
        "    - it repesented by probability mass function\n",
        "    - example if tossing a coin then the probabilty of h=0.5 and p(tail)=0.5\n",
        "  - continuous distribution\n",
        "     - a continuous distribution is used when the random variable can take any value with the range of interval, example height of the student in the class room is 160.ocm, 160.5cm, 61.3cm\n",
        "     - the probability of any exact value is zero\n",
        "     - represented using probability density function (pdf)\n",
        "     - exaple the distribution of human heigh follows a continuous  distribution"
      ],
      "metadata": {
        "id": "u0wwErKRASMf"
      }
    },
    {
      "cell_type": "markdown",
      "source": [
        "**Question 4: What is a binomial distribution, and how is it used in probability?**\n",
        "  - A bionmial distribution is discreate probability distribution that descrie the number of success in a fixed number of trails that is n\n",
        "  - each trail has two possible outcome that is success and failure\n",
        "  - the probability of success is remain same for each trial\n",
        "  - all trial are independent to each other\n",
        "  - example - suppose you toss a coin 5 time, the success = probability of head = 0.5, and then probability of getting exactly 3 head is 0.3125\n",
        "  - uses of bionimial distribution\n",
        "    - it is used in quality control where checking how many defactive item\n",
        "    - it is uesd in marketing where predecting how many customer response to ads\n",
        "    - it is used in finance to estatminting number of successful investment  \n",
        "  "
      ],
      "metadata": {
        "id": "v7L1DyfgDkfX"
      }
    },
    {
      "cell_type": "markdown",
      "source": [
        "**Question 5: What is the standard normal distribution, and why is it important?**\n",
        "   - the standard normal distribution is a special type of normal distribution that has Mean (μ) = 0 and Standard deviation (σ) = 1\n",
        "   - it is a bell shaped, symmetric curved centred at zero showing how data values are distributed around the mean\n",
        "   -important of normal distribution\n",
        "      - it helps in compare score different dataset\n",
        "      - it used in hypothesis testing, may test like z test\n",
        "      - used in probability calculation find area under the curve give probability and percentile\n",
        "      - example if student height follow a normal distribution with μ = 170 cm and σ = 10 cm, then the student of height of 180 cm has z=180-170/10 = 1, the studnet is 1 standard deviation above the mean"
      ],
      "metadata": {
        "id": "T1CHbgD5Dkis"
      }
    },
    {
      "cell_type": "markdown",
      "source": [
        "**Question 6: What is the Central Limit Theorem (CLT), and why is it critical in statistics?**\n",
        "  - central limit theroem state that when you take many random sample value from any population, the sampling distribution of the sample mean is approximate a normal distribution, as the sample size becomes large, usually n>=30\n",
        "  - why it is critical in staticstics\n",
        "     - allows to use noramal probability theory for data from any distribution, when the sample is large\n",
        "     - clt statistics estimates population using sample statistics\n",
        "     - it samplify complex data even if the population distribution is unknown, we can still make predication using normal distribution\n",
        "     - example : suppose exam score in a school are not normally distributed, but you take many sample of 50 students each and compute their mean score. The distribution of these means will be approximately normal, centered around the true population mean."
      ],
      "metadata": {
        "id": "KdqZ_2aPPHsW"
      }
    },
    {
      "cell_type": "markdown",
      "source": [
        "**Question 7: What is the significance of confidence intervals in statistical analysis?**\n",
        "   - A confident interval is a range of value that contian the true population parameter with a certian level of confidence\n",
        "   - it gives an estimate of uncertinity around a sample statistics\n",
        "   - significance of confident interaval is\n",
        "      - it give a range instead of single estimate\n",
        "      - it help in decision making, if the confidence interval for a  mean difference include a 0 it suggests no significant difference.\n",
        "      - indicate reliability of of estimate, a narrow CI is more precise estimate and a wide CI is more variability or smaller sample size\n",
        "      - it is used in hypothesis testing, confidence interval provide the same as siginificane but it is easier to interpret\n"
      ],
      "metadata": {
        "id": "iZAo3WIXSB70"
      }
    },
    {
      "cell_type": "markdown",
      "source": [
        "**Question 8: What is the concept of expected value in a probability distribution?**\n",
        "  - The expected value of probability distribution is the average mean outcome you should except if an experiment were repeated many times\n",
        "  - it represent the long term average value of a random variable\n",
        "  - formula = E(X)=∑xi.P(xi), where x= each possible outcomes, p(xi)= probability of that outcomes\n",
        "  - example: Suppose you buy a lottery ticket for ₹5. The prizes are ₹100 with probability 0.01, ₹20 with probability 0.05, and nothing with probability 0.94. The net gain for each outcome is 95, 15, and -5 respectively. the expected value is E(X)=(95*0.01)+(15*0.05)+(-5*0.94)=-3 . This means that on average you lose ₹3 per ticket if you play many times\n"
      ],
      "metadata": {
        "id": "kQLHq82_YXuf"
      }
    },
    {
      "cell_type": "code",
      "source": [
        "\"\"\" Question 9 Write a Python program to generate 1000 random numbers from a normal\n",
        "distribution with mean = 50 and standard deviation = 5. Compute its mean and standard\n",
        "deviation using NumPy, and draw a histogram to visualize the distribution.\"\"\"\n",
        "\n",
        "import numpy as np\n",
        "import matplotlib.pyplot as plt\n",
        "\n",
        "mean = 50\n",
        "std_dev = 5\n",
        "data = np.random.normal(mean, std_dev, 1000)\n",
        "\n",
        "\n",
        "calculated_mean = np.mean(data)\n",
        "calculated_std = np.std(data)\n",
        "\n",
        "\n",
        "print(f\"Calculated Mean: {calculated_mean:.2f}\")\n",
        "print(f\"Calculated Standard Deviation: {calculated_std:.2f}\")\n",
        "\n",
        "\n",
        "plt.hist(data, bins=30, color='skyblue', edgecolor='black')\n",
        "plt.title('Normal Distribution (Mean=50, SD=5)')\n",
        "plt.xlabel('Value')\n",
        "plt.ylabel('Frequency')\n",
        "plt.grid(True, linestyle='-', alpha=0.6)\n",
        "plt.show()\n",
        "\n"
      ],
      "metadata": {
        "colab": {
          "base_uri": "https://localhost:8080/",
          "height": 507
        },
        "id": "llPI7cY8Z8d9",
        "outputId": "2e6eb0f1-67a4-46ff-fbc6-b8eeda336040"
      },
      "execution_count": 6,
      "outputs": [
        {
          "output_type": "stream",
          "name": "stdout",
          "text": [
            "Calculated Mean: 49.99\n",
            "Calculated Standard Deviation: 5.19\n"
          ]
        },
        {
          "output_type": "display_data",
          "data": {
            "text/plain": [
              "<Figure size 640x480 with 1 Axes>"
            ],
            "image/png": "[encoded data removed]"
          },
          "metadata": {}
        }
      ]
    },
    {
      "cell_type": "code",
      "source": [
        "\"\"\" Question 10 You are working as a data analyst for a retail company. The company has\n",
        "collected daily sales data for 2 years and wants you to identify the overall sales trend.\n",
        "daily_sales = [220, 245, 210, 265, 230, 250, 260, 275, 240, 255,\n",
        "235, 260, 245, 250, 225, 270, 265, 255, 250, 260]\n",
        "● Explain how you would apply the Central Limit Theorem to estimate the average sales\n",
        "with a 95% confidence interval.\n",
        "● Write the Python code to compute the mean sales and its confidence interval.\"\"\"\n",
        "\n",
        "import numpy as np\n",
        "from scipy import stats\n",
        "\n",
        "\n",
        "daily_sales = [220, 245, 210, 265, 230, 250, 260, 275, 240, 255,\n",
        "               235, 260, 245, 250, 225, 270, 265, 255, 250, 260]\n",
        "\n",
        "\n",
        "n = len(daily_sales)\n",
        "\n",
        "\n",
        "mean_sales = np.mean(daily_sales)\n",
        "std_sales = np.std(daily_sales, ddof=1)  # ddof=1 for sample std\n",
        "\n",
        "\n",
        "SE = std_sales / np.sqrt(n)\n",
        "\n",
        "z = 1.96\n",
        "\n",
        "CI_lower = mean_sales - z * SE\n",
        "CI_upper = mean_sales + z * SE\n",
        "\n",
        "print(f\"Mean Daily Sales: {mean_sales:.2f}\")\n",
        "print(f\"95% Confidence Interval: ({CI_lower:.2f}, {CI_upper:.2f})\")\n",
        "\n"
      ],
      "metadata": {
        "colab": {
          "base_uri": "https://localhost:8080/"
        },
        "id": "K-X3P_vta6Ad",
        "outputId": "98c58dcf-87a7-4c19-c8b9-f3232088b73c"
      },
      "execution_count": 7,
      "outputs": [
        {
          "output_type": "stream",
          "name": "stdout",
          "text": [
            "Mean Daily Sales: 248.25\n",
            "95% Confidence Interval: (240.68, 255.82)\n"
          ]
        }
      ]
    }
  ]
}